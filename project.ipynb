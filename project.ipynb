{
  "nbformat": 4,
  "nbformat_minor": 0,
  "metadata": {
    "colab": {
      "provenance": []
    },
    "kernelspec": {
      "name": "python3",
      "display_name": "Python 3"
    },
    "language_info": {
      "name": "python"
    }
  },
  "cells": [
    {
      "cell_type": "code",
      "execution_count": null,
      "metadata": {
        "id": "43T1m7eATru1"
      },
      "outputs": [],
      "source": [
        "# Data Science Project Notebook\n"
      ]
    },
    {
      "cell_type": "code",
      "source": [
        "## Introduction\n",
        "This notebook explores various concepts and examples in Data Science, including the use of programming languages, libraries, tools, and arithmetic operations. It provides a practical understanding of how to apply these concepts in data science.\n"
      ],
      "metadata": {
        "id": "5HV3_IB6Tuqh"
      },
      "execution_count": null,
      "outputs": []
    },
    {
      "cell_type": "code",
      "source": [
        "## Data Science Languages\n",
        "- Python\n",
        "- R\n",
        "- SQL\n",
        "- Julia\n",
        "- Scala\n"
      ],
      "metadata": {
        "id": "0aHQuyPKTwTG"
      },
      "execution_count": null,
      "outputs": []
    },
    {
      "cell_type": "code",
      "source": [
        "## Data Science Libraries\n",
        "- Pandas\n",
        "- NumPy\n",
        "- Matplotlib\n",
        "- Scikit-learn\n",
        "- TensorFlow\n"
      ],
      "metadata": {
        "id": "NoXwQGdDTyU3"
      },
      "execution_count": null,
      "outputs": []
    },
    {
      "cell_type": "code",
      "source": [
        "## Data Science Tools\n",
        "| Tool       | Description                                |\n",
        "|------------|--------------------------------------------|\n",
        "| Jupyter    | Open-source web application for notebooks  |\n",
        "| GitHub     | Platform for version control and sharing   |\n",
        "| Tableau    | Data visualization tool                    |\n",
        "| Power BI   | Business analytics tool                    |\n",
        "| Anaconda   | Python and R distribution for data science |\n"
      ],
      "metadata": {
        "id": "flmQ_WcTT0Lp"
      },
      "execution_count": null,
      "outputs": []
    },
    {
      "cell_type": "code",
      "source": [
        "## Arithmetic Expression Examples\n",
        "In this section, we will explore basic arithmetic operations like addition and multiplication using code.\n"
      ],
      "metadata": {
        "id": "aYQL6bLqT2kK"
      },
      "execution_count": null,
      "outputs": []
    },
    {
      "cell_type": "code",
      "source": [
        "# Multiplying and adding numbers\n",
        "num1 = 5\n",
        "num2 = 3\n",
        "product = num1 * num2\n",
        "sum_result = num1 + num2\n",
        "\n",
        "product, sum_result\n"
      ],
      "metadata": {
        "colab": {
          "base_uri": "https://localhost:8080/"
        },
        "id": "8_Pywb4hT46w",
        "outputId": "1ac0a776-0bb4-4923-fa7c-58763726e8fd"
      },
      "execution_count": 1,
      "outputs": [
        {
          "output_type": "execute_result",
          "data": {
            "text/plain": [
              "(15, 8)"
            ]
          },
          "metadata": {},
          "execution_count": 1
        }
      ]
    },
    {
      "cell_type": "code",
      "source": [
        "# Convert minutes to hours\n",
        "minutes = 150\n",
        "hours = minutes / 60\n",
        "\n",
        "hours\n"
      ],
      "metadata": {
        "colab": {
          "base_uri": "https://localhost:8080/"
        },
        "id": "bmdEOD0TT7VN",
        "outputId": "b44b71bc-ce89-4a90-bf4b-b46a34c7b184"
      },
      "execution_count": 2,
      "outputs": [
        {
          "output_type": "execute_result",
          "data": {
            "text/plain": [
              "2.5"
            ]
          },
          "metadata": {},
          "execution_count": 2
        }
      ]
    },
    {
      "cell_type": "code",
      "source": [
        "## Objectives\n",
        "- Learn about data science languages and libraries\n",
        "- Understand basic arithmetic operations\n",
        "- Explore different tools for data science\n",
        "- Work with Google Colab notebooks for documentation and execution\n"
      ],
      "metadata": {
        "id": "WPLiefTuT9Pp"
      },
      "execution_count": null,
      "outputs": []
    },
    {
      "cell_type": "code",
      "source": [
        "## Author\n",
        "John Doe\n"
      ],
      "metadata": {
        "id": "nZajSPaCT-4N"
      },
      "execution_count": null,
      "outputs": []
    },
    {
      "cell_type": "code",
      "source": [],
      "metadata": {
        "id": "q2Gdr14iUBJg"
      },
      "execution_count": null,
      "outputs": []
    }
  ]
}